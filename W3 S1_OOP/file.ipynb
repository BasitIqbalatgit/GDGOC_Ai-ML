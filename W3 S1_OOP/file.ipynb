{
 "cells": [
  {
   "cell_type": "markdown",
   "metadata": {},
   "source": [
    "# Introduction to OOP in Python\n",
    "\n",
    "Object-Oriented Programming (OOP) is a programming paradigm that uses **objects** to model real-world entities by bundling data (attributes) and behavior (methods) together. In Python, OOP helps in organizing code, making it modular, reusable, and easier to map real-world problems into software solutions.\n",
    "\n",
    "## What is OOP?\n",
    "\n",
    "**Definition:**  \n",
    "OOP is a paradigm that organizes software design around data, or objects, rather than functions and logic. Each object represents an instance of a class that encapsulates attributes (data) and methods (behaviors).\n",
    "\n",
    "## Key Concepts\n",
    "\n",
    "- **Encapsulation:** Bundling data and methods that operate on that data within one unit (object).\n",
    "- **Abstraction:** Hiding complex implementation details behind a simple interface.\n",
    "- **Inheritance:** Creating new classes from existing ones, promoting code reuse.\n",
    "- **Polymorphism:** Allowing different objects to be treated as instances of the same class through a common interface.\n",
    "\n",
    "## Why Use OOP?\n",
    "\n",
    "OOP brings several benefits that are especially valuable when building and maintaining complex systems:\n",
    "\n",
    "- **Modularity:** Code is organized into self-contained objects, making it easier to manage and maintain.\n",
    "- **Reusability:** Once a class is written, it can be reused across different parts of an application.\n",
    "- **Scalability:** OOP designs can be extended and modified with minimal impact on existing code.\n",
    "- **Maintainability:** Logical grouping of code into classes makes debugging and enhancements more straightforward.\n",
    "- **Mapping to Real-World Problems:** OOP helps in modeling real-world scenarios more intuitively, making the code easier to understand.\n",
    "\n",
    "## Classes and Objects\n",
    "\n",
    "### Defining a Class\n",
    "\n",
    "A class in Python serves as a blueprint for creating objects. It defines the attributes and methods that the created objects will have.\n"
   ]
  },
  {
   "cell_type": "code",
   "execution_count": null,
   "metadata": {},
   "outputs": [
    {
     "name": "stdout",
     "output_type": "stream",
     "text": [
      "The 2020 Toyota Corolla's engine is now running.\n",
      "The 2021 Honda Civic's engine is now running.\n",
      "The 2022 Tesla Model S's engine is now running.\n",
      "Toyota\n",
      "Civic\n",
      "2022\n",
      "10\n",
      "4\n",
      "4\n"
     ]
    }
   ],
   "source": [
    "class Car:\n",
    "    # Class attribute (shared by all instances)\n",
    "    wheels = 4\n",
    "\n",
    "    def __init__(self, make, model, year):\n",
    "        # Instance attributes (unique to each object)\n",
    "        self.make = make\n",
    "        self.model = model\n",
    "        self.year = year\n",
    "\n",
    "    def start_engine(self):\n",
    "        print(f\"The {self.year} {self.make} {self.model}'s engine is now running.\")\n",
    "        \n",
    "\n",
    "myFirstCar = Car(\"Toyota\", \"Corolla\", 2020)\n",
    "mySecondCar = Car(\"Honda\", \"Civic\", 2021)\n",
    "mythirdCar = Car(make=\"Tesla\",year=2022, model=\"Model S\") \n",
    "\n",
    "\n",
    "myFirstCar.start_engine() \n",
    "mySecondCar.start_engine()\n",
    "mythirdCar.start_engine()\n",
    "\n",
    "print(myFirstCar.make)\n",
    "print(mySecondCar.model)\n",
    "print(mythirdCar.year)\n",
    "\n",
    "myFirstCar.wheels= 10\n",
    "print(myFirstCar.wheels)\n",
    "print(mySecondCar.wheels)\n",
    "print(mythirdCar.wheels)\n"
   ]
  },
  {
   "cell_type": "markdown",
   "metadata": {},
   "source": [
    "## Explanation\n",
    "\n",
    "- **wheels** is a class variable shared by every instance of `Car`.\n",
    "- The `__init__` method initializes each new object with specific attributes.\n",
    "- `start_engine()` is an instance method that operates on the object's data.\n",
    "\n",
    "## Creating Objects\n",
    "\n",
    "Once the class is defined, you can create instances (objects) of the class and access their attributes and methods.\n"
   ]
  },
  {
   "cell_type": "code",
   "execution_count": 8,
   "metadata": {},
   "outputs": [
    {
     "name": "stdout",
     "output_type": "stream",
     "text": [
      "Toyota\n",
      "The 2020 Toyota Corolla's engine is now running.\n"
     ]
    }
   ],
   "source": [
    "my_car = Car(\"Toyota\", \"Corolla\", 2020)\n",
    "print(my_car.make)          # Output: Toyota\n",
    "my_car.start_engine()       # Output: The 2020 Toyota Corolla's engine is now running.\n"
   ]
  },
  {
   "cell_type": "markdown",
   "metadata": {},
   "source": [
    "# Instance Variables vs. Class Variables\n",
    "\n",
    "## Instance Variables:\n",
    "Defined within methods (usually in `__init__`), these variables hold data unique to each object.\n",
    "\n",
    "```python\n",
    "# In the Car class, make, model, and year are instance variables.\n",
    "class Car:\n",
    "    def __init__(self, make, model, year):\n",
    "        self.make = make\n",
    "        self.model = model\n",
    "        self.year = year\n"
   ]
  },
  {
   "cell_type": "markdown",
   "metadata": {},
   "source": [
    "## Class Variables:\n",
    "Defined directly in the class body, these variables are shared among all instances.\n",
    "\n",
    "```python\n",
    "\n",
    "print(my_car.wheels)   # Output: 4\n",
    "\n",
    "# Changing via the class:\n",
    "Car.wheels = 6\n",
    "print(my_car.wheels)   # Output: 6\n"
   ]
  },
  {
   "cell_type": "markdown",
   "metadata": {},
   "source": [
    "# Methods in Python Classes\n",
    "## Instance Methods\n",
    "These are regular methods that work on the instance. The __init__ method is a special instance method used to initialize new objects."
   ]
  },
  {
   "cell_type": "code",
   "execution_count": null,
   "metadata": {},
   "outputs": [],
   "source": [
    "def start_engine(self):\n",
    "    print(f\"The engine of the {self.make} {self.model} is running.\")\n"
   ]
  },
  {
   "cell_type": "markdown",
   "metadata": {},
   "source": [
    "# The __init__ Constructor\n",
    "## Purpose:\n",
    "The constructor initializes the state of a new object."
   ]
  },
  {
   "cell_type": "code",
   "execution_count": null,
   "metadata": {},
   "outputs": [],
   "source": [
    "def __init__(self, make, model, year):\n",
    "    self.make = make\n",
    "    self.model = model\n",
    "    self.year = year\n"
   ]
  },
  {
   "cell_type": "markdown",
   "metadata": {},
   "source": [
    "# Class Methods and Static Methods (Optional Topics)\n",
    "## Class Methods:\n",
    "Use the @classmethod decorator and operate on the class rather than an instance"
   ]
  },
  {
   "cell_type": "code",
   "execution_count": null,
   "metadata": {},
   "outputs": [],
   "source": [
    "class Car:\n",
    "    wheels = 4\n",
    "\n",
    "    @classmethod\n",
    "    def change_wheels(cls, new_wheels):\n",
    "        cls.wheels = new_wheels\n"
   ]
  },
  {
   "cell_type": "markdown",
   "metadata": {},
   "source": [
    "## Static Methods:\n",
    "Use the @staticmethod decorator and do not access class or instance data. They are utility functions"
   ]
  },
  {
   "cell_type": "code",
   "execution_count": null,
   "metadata": {},
   "outputs": [],
   "source": [
    "class Car:\n",
    "    @staticmethod\n",
    "    def is_valid_model(model):\n",
    "        return model in [\"Corolla\", \"Civic\", \"Model S\"]\n"
   ]
  },
  {
   "cell_type": "markdown",
   "metadata": {},
   "source": [
    "# Special (Magic) Methods\n",
    "## Purpose:\n",
    "Special methods (also called magic methods) provide a way to define or customize certain built-in behaviors.\n",
    "\n",
    "## Example:\n",
    "The __str__ method is used to return a user-friendly string representation of an object."
   ]
  },
  {
   "cell_type": "code",
   "execution_count": null,
   "metadata": {},
   "outputs": [],
   "source": [
    "def __str__(self):\n",
    "    return f\"{self.year} {self.make} {self.model}\"\n",
    "\n",
    "\n"
   ]
  },
  {
   "cell_type": "markdown",
   "metadata": {},
   "source": [
    "# Inheritance\n",
    "Inheritance allows a class (child) to inherit attributes and methods from another class (parent).\n",
    "\n",
    "## Single Inheritance\n",
    "A subclass can extend or override behaviors of its parent class."
   ]
  },
  {
   "cell_type": "code",
   "execution_count": 16,
   "metadata": {},
   "outputs": [
    {
     "name": "stdout",
     "output_type": "stream",
     "text": [
      "2022 Tesla Model S is now powered on silently.\n"
     ]
    }
   ],
   "source": [
    "class Car:\n",
    "    # Class attribute (shared by all instances)\n",
    "    wheels = 4\n",
    "\n",
    "    def __init__(self, make, model, year):\n",
    "        # Instance attributes (unique to each object)\n",
    "        self.make = make\n",
    "        self.model = model\n",
    "        self.year = year\n",
    "\n",
    "    def start_engine(self):\n",
    "        print(f\"The {self.year} {self.make} {self.model}'s engine is now running.\")\n",
    "        \n",
    "        \n",
    "\n",
    "\n",
    "class ElectricCar(Car):\n",
    "    def __init__(self, make, model, year, battery_capacity):\n",
    "        super().__init__(make, model, year)\n",
    "        self.battery_capacity = battery_capacity\n",
    "\n",
    "    def start_engine(self):\n",
    "        print(f\"{self.year} {self.make} {self.model} is now powered on silently.\")       \n",
    "        \n",
    "\n",
    "\n",
    "e1 = ElectricCar(\"Tesla\", \"Model S\", 2022, 100)\n",
    "e1.start_engine()\n"
   ]
  },
  {
   "cell_type": "markdown",
   "metadata": {},
   "source": [
    "## Multiple Inheritance\n",
    "Python allows a class to inherit from more than one parent class."
   ]
  },
  {
   "cell_type": "code",
   "execution_count": null,
   "metadata": {},
   "outputs": [
    {
     "name": "stdout",
     "output_type": "stream",
     "text": [
      "Engine started successfully.\n",
      "3\n",
      "6\n",
      "55\n"
     ]
    }
   ],
   "source": [
    "class Car:\n",
    "    wheels = 4\n",
    "    def __init__(self, make, model, year):\n",
    "        # Instance attributes (unique to each object)\n",
    "        self.make = make\n",
    "        self.model = model\n",
    "        self.year = year\n",
    "\n",
    "    def start_engine(self):\n",
    "        print(f\"The {self.year} {self.make} {self.model}'s engine is now running.\")\n",
    "        \n",
    "        \n",
    "class HybridVehicle:    \n",
    "    def hybrid_info(self):\n",
    "        print(\"This vehicle combines gasoline and electric power.\")\n",
    "        \n",
    "    def start_engine(self):\n",
    "        print(\"start engine in hybrid vehicle\")\n",
    "        \n",
    "        \n",
    "\n",
    "class HybridCar(Car, HybridVehicle):\n",
    "    pass\n",
    "\n",
    "class modifiedHybridCar(Car, HybridVehicle,HybridCar):\n",
    "    \n",
    "    def start_engine(self):\n",
    "        print(f\"{self.year} {self.make} {self.model} is now powered on silently.\")\n",
    "\n",
    "my_hybrid = modifiedHybridCar(\"Toyota\", \"Prius\", 2021)\n",
    "my_hybrid.start_engine()         # From HybridVehicle\n"
   ]
  },
  {
   "cell_type": "markdown",
   "metadata": {},
   "source": [
    "# Method Overriding & Polymorphism\n",
    "## Overriding\n",
    "Subclasses can redefine methods inherited from their parent classes."
   ]
  },
  {
   "cell_type": "code",
   "execution_count": null,
   "metadata": {},
   "outputs": [],
   "source": [
    "class Animal:\n",
    "    def sound(self):\n",
    "        return \"Some generic animal sound\"\n",
    "\n",
    "class Dog(Animal):\n",
    "    def sound(self):\n",
    "        return \"Bark\"\n",
    "\n",
    "pet = Dog()\n",
    "print(pet.sound())   # Output: Bark\n"
   ]
  },
  {
   "cell_type": "markdown",
   "metadata": {},
   "source": [
    "# Polymorphism\n",
    "Polymorphism allows objects of different classes to be used interchangeably if they share the same method signature."
   ]
  },
  {
   "cell_type": "code",
   "execution_count": 26,
   "metadata": {},
   "outputs": [
    {
     "name": "stdout",
     "output_type": "stream",
     "text": [
      "Drawing a shape\n",
      "Drawing a rectangle\n",
      "Drawing a circle\n"
     ]
    }
   ],
   "source": [
    "class Shape:\n",
    "    def draw(self):\n",
    "        print(\"Drawing a shape\")\n",
    "        \n",
    "        \n",
    "class rectangle(Shape):\n",
    "    def draw(self):\n",
    "        print(\"Drawing a rectangle\")\n",
    "\n",
    "class circle(Shape):\n",
    "    def draw(self):\n",
    "        print(\"Drawing a circle\")\n",
    "\n",
    "shape = Shape()\n",
    "rectangle = rectangle()\n",
    "circle = circle()\n",
    "\n",
    "# shape.draw()\n",
    "# rectangle.draw()\n",
    "# circle.draw()\n",
    "\n",
    "\n",
    "def draw_a_shape(shape):\n",
    "    shape.draw()\n",
    "\n",
    "\n",
    "arr = [shape, rectangle, circle]\n",
    "for i in arr:\n",
    "    draw_a_shape(i)\n",
    "\n"
   ]
  },
  {
   "cell_type": "markdown",
   "metadata": {},
   "source": [
    "This demonstrates duck typing: if an object “quacks” (implements the required method), it can be used in place of another.\n",
    "\n",
    "# Abstract Classes & Interfaces\n",
    "While Python does not have a separate interface construct like Java, you can use abstract classes to enforce that derived classes implement certain methods.\n",
    "\n",
    "## Abstract Classes\n",
    "Using the abc module, you can define abstract classes that cannot be instantiated directly."
   ]
  },
  {
   "cell_type": "code",
   "execution_count": null,
   "metadata": {},
   "outputs": [
    {
     "name": "stdout",
     "output_type": "stream",
     "text": [
      "i have an ios phone\n",
      "i have a screen\n",
      "i have a battery\n"
     ]
    }
   ],
   "source": [
    "from abc import ABC, abstractmethod\n",
    "\n",
    "class Shape(ABC):\n",
    "    @abstractmethod\n",
    "    def get_area(self):\n",
    "        pass\n",
    "\n",
    "    @abstractmethod\n",
    "    def get_perimeter(self):\n",
    "        pass\n",
    "    \n",
    "    \n"
   ]
  },
  {
   "cell_type": "markdown",
   "metadata": {},
   "source": [
    "## Implementing Abstract Classes\n",
    "Concrete subclasses must implement all abstract methods."
   ]
  },
  {
   "cell_type": "code",
   "execution_count": null,
   "metadata": {},
   "outputs": [
    {
     "name": "stdout",
     "output_type": "stream",
     "text": [
      "50\n"
     ]
    }
   ],
   "source": [
    "class Rectangle(Shape):\n",
    "    def __init__(self, width, height):\n",
    "        self.width = width\n",
    "        self.height = height\n",
    "\n",
    "    def get_area(self):\n",
    "        return self.width * self.height\n",
    "\n",
    "    def get_perimeter(self):\n",
    "        return 2 * (self.width + self.height)\n",
    "    \n",
    "\n",
    "\n",
    "rect = Rectangle(5, 10)\n",
    "print(rect.get_area())\n"
   ]
  },
  {
   "cell_type": "markdown",
   "metadata": {},
   "source": [
    "# Interfaces via Abstract Classes\n",
    "Abstract classes in Python serve a similar purpose to interfaces in other languages by enforcing a common set of methods that must be implemented."
   ]
  },
  {
   "cell_type": "markdown",
   "metadata": {},
   "source": [
    "# Best Practices & Common Pitfalls\n",
    "## Meaningful Naming:\n",
    "Use clear and descriptive names for classes, methods, and variables (e.g., use PascalCase for classes and snake_case for methods).\n",
    "\n",
    "## Prefer Composition over Inheritance:\n",
    "When a \"has-a\" relationship fits better than an \"is-a\" relationship, consider using composition.\n",
    "\n",
    "## Be Cautious with Mutable Class Variables:\n",
    "Mutable class variables are shared among all instances, which can lead to unexpected behavior.\n",
    "\n",
    "## Encapsulation:\n",
    "Use naming conventions such as _protected and __private to indicate that certain attributes or methods should not be accessed directly.\n",
    "\n",
    "## Leverage Special Methods:\n",
    "Methods like __str__ and __repr__ can improve debugging and make your objects’ output more informative."
   ]
  }
 ],
 "metadata": {
  "kernelspec": {
   "display_name": "Python 3",
   "language": "python",
   "name": "python3"
  },
  "language_info": {
   "codemirror_mode": {
    "name": "ipython",
    "version": 3
   },
   "file_extension": ".py",
   "mimetype": "text/x-python",
   "name": "python",
   "nbconvert_exporter": "python",
   "pygments_lexer": "ipython3",
   "version": "3.12.1"
  }
 },
 "nbformat": 4,
 "nbformat_minor": 2
}
