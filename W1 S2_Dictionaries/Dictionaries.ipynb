{
 "cells": [
  {
   "cell_type": "markdown",
   "metadata": {},
   "source": [
    "# 📌 Python Dictionaries - A Complete Guide\n",
    "\n",
    "Dictionaries are an essential data structure in Python that store data as **key-value pairs**.\n",
    "\n",
    "## ✅ What You’ll Learn:\n",
    "- Creating Dictionaries\n",
    "- Accessing & Modifying Data\n",
    "- Dictionary Methods & Operations\n",
    "- Nested Dictionaries\n",
    "- Dictionary Comprehensions\n",
    "- Real-World Applications\n"
   ]
  },
  {
   "cell_type": "code",
   "execution_count": null,
   "metadata": {},
   "outputs": [],
   "source": [
    "# Creating a dictionary\n",
    "my_dict = {\n",
    "    \"name\": \"Basit\",\n",
    "    \"age\": 27,\n",
    "    \"city\": \"Islamabad\"\n",
    "}\n",
    "\n",
    "print(my_dict)  # {'name': 'Basit', 'age': 27, 'city': 'Islamabad'}\n"
   ]
  },
  {
   "cell_type": "markdown",
   "metadata": {},
   "source": [
    "## 🔹 Accessing Dictionary Elements\n",
    "You can access values using **keys** or the `get()` method.\n"
   ]
  },
  {
   "cell_type": "code",
   "execution_count": null,
   "metadata": {},
   "outputs": [],
   "source": [
    "# Accessing values\n",
    "print(my_dict[\"name\"])    # Basit\n",
    "print(my_dict.get(\"age\")) # 27\n",
    "print(my_dict.get(\"gender\", \"Not Found\"))  # Not Found (default value)\n"
   ]
  },
  {
   "cell_type": "code",
   "execution_count": null,
   "metadata": {},
   "outputs": [],
   "source": [
    "# Adding a new key-value pair\n",
    "my_dict[\"gender\"] = \"Male\"\n",
    "print(my_dict)\n",
    "\n",
    "# Updating an existing key\n",
    "my_dict[\"age\"] = 28\n",
    "print(my_dict)\n"
   ]
  },
  {
   "cell_type": "markdown",
   "metadata": {},
   "source": [
    "## 🔹 Removing Elements\n",
    "- `del` → Removes a specific key\n",
    "- `pop()` → Returns and removes a value\n",
    "- `clear()` → Empties the dictionary\n"
   ]
  },
  {
   "cell_type": "code",
   "execution_count": null,
   "metadata": {},
   "outputs": [],
   "source": [
    "# Removing an element\n",
    "del my_dict[\"city\"]\n",
    "print(my_dict)\n",
    "\n",
    "# Using pop()\n",
    "age = my_dict.pop(\"age\")\n",
    "print(age)  # 28\n",
    "\n",
    "# Clearing the dictionary\n",
    "my_dict.clear()\n",
    "print(my_dict)  # {}\n"
   ]
  },
  {
   "cell_type": "markdown",
   "metadata": {},
   "source": [
    "## 🔹 Dictionary Methods\n",
    "- `keys()` → Get all keys\n",
    "- `values()` → Get all values\n",
    "- `items()` → Get all key-value pairs\n"
   ]
  },
  {
   "cell_type": "code",
   "execution_count": null,
   "metadata": {},
   "outputs": [],
   "source": [
    "student = {\"name\": \"Ali\", \"age\": 21, \"course\": \"Python\"}\n",
    "\n",
    "# Dictionary Methods\n",
    "print(student.keys())   # dict_keys(['name', 'age', 'course'])\n",
    "print(student.values()) # dict_values(['Ali', 21, 'Python'])\n",
    "print(student.items())  # dict_items([('name', 'Ali'), ('age', 21), ('course', 'Python')])\n"
   ]
  },
  {
   "cell_type": "code",
   "execution_count": null,
   "metadata": {},
   "outputs": [],
   "source": [
    "for key, value in student.items():\n",
    "    print(f\"{key}: {value}\")\n"
   ]
  },
  {
   "cell_type": "code",
   "execution_count": null,
   "metadata": {},
   "outputs": [],
   "source": [
    "students = {\n",
    "    \"student1\": {\"name\": \"Ali\", \"age\": 21},\n",
    "    \"student2\": {\"name\": \"Sara\", \"age\": 22}\n",
    "}\n",
    "\n",
    "print(students[\"student1\"][\"name\"])  # Ali\n"
   ]
  },
  {
   "cell_type": "code",
   "execution_count": null,
   "metadata": {},
   "outputs": [],
   "source": [
    "def get_day(num):\n",
    "    days = {\n",
    "        1: \"Monday\",\n",
    "        2: \"Tuesday\",\n",
    "        3: \"Wednesday\"\n",
    "    }\n",
    "    return days.get(num, \"Invalid Day\")\n",
    "\n",
    "print(get_day(2))  # Tuesday\n",
    "print(get_day(5))  # Invalid Day\n"
   ]
  },
  {
   "cell_type": "code",
   "execution_count": null,
   "metadata": {},
   "outputs": [],
   "source": [
    "dict1 = {\"a\": 1, \"b\": 2}\n",
    "dict2 = {\"b\": 3, \"c\": 4}\n",
    "\n",
    "merged = dict1 | dict2  # Python 3.9+\n",
    "print(merged)  # {'a': 1, 'b': 3, 'c': 4}\n"
   ]
  },
  {
   "cell_type": "code",
   "execution_count": null,
   "metadata": {},
   "outputs": [],
   "source": [
    "from collections import defaultdict\n",
    "\n",
    "d = defaultdict(int)\n",
    "d[\"x\"] += 1\n",
    "print(d)  # defaultdict(<class 'int'>, {'x': 1})\n"
   ]
  },
  {
   "cell_type": "markdown",
   "metadata": {},
   "source": [
    "# 🎯 Conclusion\n",
    "Dictionaries are a powerful tool in Python. They help in:\n",
    "✅ Storing structured data  \n",
    "✅ Fast lookups with key-value pairs  \n",
    "✅ Nested data organization  \n",
    "\n",
    "💡 Keep practicing with real-world examples like JSON parsing!\n"
   ]
  }
 ],
 "metadata": {
  "language_info": {
   "name": "python"
  }
 },
 "nbformat": 4,
 "nbformat_minor": 2
}
