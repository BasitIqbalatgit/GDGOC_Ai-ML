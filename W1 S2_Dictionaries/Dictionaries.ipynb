{
 "cells": [
  {
   "cell_type": "markdown",
   "metadata": {},
   "source": [
    "# 📌 Python Dictionaries - A Complete Guide\n",
    "\n",
    "Dictionaries are an essential data structure in Python that store data as **key-value pairs**.\n",
    "\n",
    "## ✅ What You’ll Learn:\n",
    "- Creating Dictionaries\n",
    "- Accessing & Modifying Data\n",
    "- Dictionary Methods & Operations\n",
    "- Nested Dictionaries\n",
    "- Dictionary Comprehensions\n",
    "- Real-World Applications\n"
   ]
  },
  {
   "cell_type": "code",
   "execution_count": 12,
   "metadata": {},
   "outputs": [
    {
     "name": "stdout",
     "output_type": "stream",
     "text": [
      "[{'name': 'Basit', 'age': 21, 'city': 'Islamabad', 'salary': 50000.001}, {'name': 'Basit', 'age': 21, 'city': 'Islamabad', 'salary': 50000.001}, {'name': 'Basit', 'age': 21, 'city': 'Islamabad', 'salary': 50000.001}]\n"
     ]
    }
   ],
   "source": [
    "# Creating a dictionary\n",
    "my_dict = {\n",
    "    \"name\": \"Basit\",\n",
    "    \"age\": 21,\n",
    "    \"city\": \"Islamabad\",\n",
    "    \"salary\": 50000.001\n",
    "}\n",
    "\n",
    "lst = [my_dict, my_dict, my_dict]  # List of dictionaries\n",
    "\n",
    "print(lst)  # {'name': 'Basit', 'age': 21, 'city': 'Islamabad'}\n"
   ]
  },
  {
   "cell_type": "markdown",
   "metadata": {},
   "source": [
    "## 🔹 Accessing Dictionary Elements\n",
    "You can access values using **keys** or the `get()` method.\n"
   ]
  },
  {
   "cell_type": "code",
   "execution_count": 3,
   "metadata": {},
   "outputs": [
    {
     "name": "stdout",
     "output_type": "stream",
     "text": [
      "Basit\n",
      "21\n",
      "Not Found\n"
     ]
    }
   ],
   "source": [
    "# Accessing values\n",
    "print(my_dict[\"name\"])    # Basit\n",
    "print(my_dict.get(\"age\")) # 27\n",
    "print(my_dict.get(\"gender\", \"Not Found\"))  # Not Found (default value)\n"
   ]
  },
  {
   "cell_type": "code",
   "execution_count": 4,
   "metadata": {},
   "outputs": [
    {
     "name": "stdout",
     "output_type": "stream",
     "text": [
      "{'name': 'Basit', 'age': 21, 'city': 'Islamabad', 'salary': 50000.001, 'gender': 'Male'}\n",
      "{'name': 'Basit', 'age': 28, 'city': 'Islamabad', 'salary': 50000.001, 'gender': 'Male'}\n"
     ]
    }
   ],
   "source": [
    "# Adding a new key-value pair\n",
    "my_dict[\"gender\"] = \"Male\"\n",
    "print(my_dict)\n",
    "\n",
    "# Updating an existing key\n",
    "my_dict[\"age\"] = 28\n",
    "print(my_dict)\n"
   ]
  },
  {
   "cell_type": "markdown",
   "metadata": {},
   "source": [
    "## 🔹 Removing Elements\n",
    "- `del` → Removes a specific key\n",
    "- `pop()` → Returns and removes a value\n",
    "- `clear()` → Empties the dictionary\n"
   ]
  },
  {
   "cell_type": "code",
   "execution_count": 16,
   "metadata": {},
   "outputs": [
    {
     "name": "stdout",
     "output_type": "stream",
     "text": [
      "{'name': 'Basit', 'age': 21, 'salary': 50000.001}\n",
      "21\n",
      "{'name': 'Basit', 'salary': 50000.001}\n",
      "{}\n"
     ]
    }
   ],
   "source": [
    "my_dict = {\n",
    "    \"name\": \"Basit\",\n",
    "    \"age\": 21,\n",
    "    \"city\": \"Islamabad\",\n",
    "    \"salary\": 50000.001\n",
    "}\n",
    "\n",
    "# Removing an element\n",
    "del my_dict[\"city\"]\n",
    "print(my_dict)\n",
    "\n",
    "# Using pop()\n",
    "age = my_dict.pop(\"age\")\n",
    "print(age)  # 28\n",
    "print(my_dict)\n",
    "\n",
    "# Clearing the dictionary\n",
    "my_dict.clear()\n",
    "print(my_dict)  # {}\n"
   ]
  },
  {
   "cell_type": "markdown",
   "metadata": {},
   "source": [
    "## 🔹 Dictionary Methods\n",
    "- `keys()` → Get all keys\n",
    "- `values()` → Get all values\n",
    "- `items()` → Get all key-value pairs\n"
   ]
  },
  {
   "cell_type": "code",
   "execution_count": 17,
   "metadata": {},
   "outputs": [
    {
     "name": "stdout",
     "output_type": "stream",
     "text": [
      "dict_keys(['name', 'age', 'course'])\n",
      "dict_values(['Ali', 21, 'Python'])\n",
      "dict_items([('name', 'Ali'), ('age', 21), ('course', 'Python')])\n"
     ]
    }
   ],
   "source": [
    "student = {\"name\": \"Ali\", \"age\": 21, \"course\": \"Python\"}\n",
    "\n",
    "# Dictionary Methods\n",
    "print(student.keys())   # dict_keys(['name', 'age', 'course'])\n",
    "print(student.values()) # dict_values(['Ali', 21, 'Python'])\n",
    "print(student.items())  # dict_items([('name', 'Ali'), ('age', 21), ('course', 'Python')])\n"
   ]
  },
  {
   "cell_type": "code",
   "execution_count": null,
   "metadata": {},
   "outputs": [
    {
     "name": "stdout",
     "output_type": "stream",
     "text": [
      "name: Ali\n",
      "age: 21\n",
      "course: Python\n",
      "name: Ali\n",
      "age: 21\n",
      "course: Python\n"
     ]
    }
   ],
   "source": [
    "for key in student:\n",
    "    print(f\"{key}: {student[key]}\")\n",
    "\n",
    "\n",
    "\n",
    "\n",
    "for key, value in student.items():\n",
    "    print(f\"{key}: {value}\")\n",
    "    \n",
    "    \n",
    "\n"
   ]
  },
  {
   "cell_type": "code",
   "execution_count": null,
   "metadata": {},
   "outputs": [
    {
     "name": "stdout",
     "output_type": "stream",
     "text": [
      "{'student1': {'name': 'Ali', 'age': 21, 'gender': 'male'}, 'student2': {'name': 'Sara', 'age': 22}}\n",
      "{'name': 'Ali', 'age': 21, 'gender': 'male'}\n"
     ]
    }
   ],
   "source": [
    "students = {\n",
    "    \"student1\": {\"name\": \"Ali\", \"age\": 21},\n",
    "    \"student2\": {\"name\": \"Sara\", \"age\": 22}\n",
    "}\n",
    "\n",
    "#dict of dict\n",
    "\n",
    "students['student1']['gender'] = 'male'\n",
    "print(students)\n",
    "print(students['student1'])\n",
    "# student1['gender'] = 'male'\n",
    "# print(student1)\n"
   ]
  },
  {
   "cell_type": "code",
   "execution_count": 26,
   "metadata": {},
   "outputs": [
    {
     "name": "stdout",
     "output_type": "stream",
     "text": [
      "Tuesday\n",
      "Invalid Day\n"
     ]
    }
   ],
   "source": [
    "def get_day(num):\n",
    "    days = {\n",
    "        1: \"Monday\",\n",
    "        2: \"Tuesday\",\n",
    "        3: \"Wednesday\"\n",
    "    }\n",
    "    return days.get(num, \"Invalid Day\")\n",
    "\n",
    "print(get_day(2))  # Tuesday\n",
    "print(get_day(5))  # Invalid Day\n"
   ]
  },
  {
   "cell_type": "code",
   "execution_count": 27,
   "metadata": {},
   "outputs": [
    {
     "name": "stdout",
     "output_type": "stream",
     "text": [
      "{'a': 1, 'b': 3, 'c': 4}\n"
     ]
    }
   ],
   "source": [
    "dict1 = {\"a\": 1, \"b\": 2}\n",
    "dict2 = {\"b\": 3, \"c\": 4}\n",
    "\n",
    "merged = dict1 | dict2  # Python 3.9+\n",
    "print(merged)  # {'a': 1, 'b': 3, 'c': 4}\n"
   ]
  },
  {
   "cell_type": "code",
   "execution_count": 29,
   "metadata": {},
   "outputs": [
    {
     "name": "stdout",
     "output_type": "stream",
     "text": [
      "defaultdict(<class 'int'>, {'x': 1.1})\n"
     ]
    }
   ],
   "source": [
    "from collections import defaultdict\n",
    "\n",
    "d = defaultdict(int)\n",
    "d[\"x\"] += 1.1\n",
    "print(d)  # defaultdict(<class 'int'>, {'x': 1})\n"
   ]
  },
  {
   "cell_type": "markdown",
   "metadata": {},
   "source": [
    "# 🎯 Conclusion\n",
    "Dictionaries are a powerful tool in Python. They help in:\n",
    "✅ Storing structured data  \n",
    "✅ Fast lookups with key-value pairs  \n",
    "✅ Nested data organization  \n",
    "\n",
    "💡 Keep practicing with real-world examples like JSON parsing!\n"
   ]
  }
 ],
 "metadata": {
  "kernelspec": {
   "display_name": "Python 3",
   "language": "python",
   "name": "python3"
  },
  "language_info": {
   "codemirror_mode": {
    "name": "ipython",
    "version": 3
   },
   "file_extension": ".py",
   "mimetype": "text/x-python",
   "name": "python",
   "nbconvert_exporter": "python",
   "pygments_lexer": "ipython3",
   "version": "3.12.1"
  }
 },
 "nbformat": 4,
 "nbformat_minor": 2
}
