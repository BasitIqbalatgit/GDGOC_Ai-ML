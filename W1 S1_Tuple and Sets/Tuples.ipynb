{
 "cells": [
  {
   "cell_type": "markdown",
   "metadata": {},
   "source": [
    "# Tuples in Python\n",
    "\n",
    "### What is a Tuple?\n",
    "\n",
    "A Tuple is an ordered, immutable collection in Python, meaning:\n",
    "- ✅ The order of elements is maintained.\n",
    "- ✅ Elements cannot be changed, added, or removed after creation. \n",
    "- ✅ It allows duplicate values.\n",
    "- ✅ It is defined using parentheses ().\n",
    "\n",
    "### Why Use Tuples?\n",
    "\n",
    "- Performance: Faster than lists for read operations.\n",
    "- Data Integrity: Ensures data remains unchanged.\n",
    "- Used in Functions: Multiple return values from functions.\n",
    "- Can be Dictionary Keys: Unlike lists, tuples can be keys in dictionaries."
   ]
  },
  {
   "cell_type": "markdown",
   "metadata": {},
   "source": []
  },
  {
   "cell_type": "code",
   "execution_count": 2,
   "metadata": {},
   "outputs": [
    {
     "name": "stdout",
     "output_type": "stream",
     "text": [
      "(10, 20, 30, 40)\n",
      "<class 'int'>\n",
      "('Python', 3.9, True)\n"
     ]
    }
   ],
   "source": [
    "# Creating Tuple.......................\n",
    "my_tuple = (10, 20, 30, 40)\n",
    "print(my_tuple)  # Output: (10, 20, 30, 40)\n",
    "\n",
    "# Single element tuple (Comma is necessary)\n",
    "single_element_tuple = (5,)\n",
    "print(type(single_element_tuple))  # Output: <class 'tuple'>\n",
    "\n",
    "# Tuple with different data types\n",
    "mixed_tuple = (\"Python\", 3.9, True)\n",
    "print(mixed_tuple)  # Output: ('Python', 3.9, True)\n"
   ]
  },
  {
   "cell_type": "code",
   "execution_count": 3,
   "metadata": {},
   "outputs": [
    {
     "name": "stdout",
     "output_type": "stream",
     "text": [
      "20\n",
      "40\n",
      "(20, 30)\n"
     ]
    }
   ],
   "source": [
    "#ACCESSING ELMENTS IN TUPLE...........................\n",
    "\n",
    "# Indexing\n",
    "print(my_tuple[1])  # Output: 20\n",
    "\n",
    "# Negative Indexing\n",
    "print(my_tuple[-1])  \n",
    "\n",
    "# Slicing\n",
    "print(my_tuple[1:3]) # [a,b)\n"
   ]
  },
  {
   "cell_type": "code",
   "execution_count": 4,
   "metadata": {},
   "outputs": [
    {
     "name": "stdout",
     "output_type": "stream",
     "text": [
      "(10, 20, 30, 40, 'Python', 3.9, True)\n",
      "(10, 20, 30, 40, 10, 20, 30, 40)\n",
      "True\n",
      "4\n",
      "1\n",
      "2\n",
      "40\n",
      "10\n"
     ]
    }
   ],
   "source": [
    "# TUPLE OPERATIONS...............................\n",
    "\n",
    "\n",
    "# my_tuple = (10, 20, 30, 40)\n",
    "# mixed_tuple = (\"Python\", 3.9, True)\n",
    "\n",
    "# Concatenation\n",
    "concatenated_tuple = my_tuple + mixed_tuple\n",
    "print(concatenated_tuple)  # Output: (10, 20, 30, 40, 'Python', 3.9, True)\n",
    "\n",
    "# Repetition\n",
    "repeated_tuple = my_tuple * 2\n",
    "print(repeated_tuple)  # Output: (10, 20, 30, 40, 10, 20, 30, 40)\n",
    "\n",
    "# Membership Check\n",
    "print(20 in my_tuple)  # Output: True\n",
    "\n",
    "# Length\n",
    "print(len(my_tuple))  # Output: 4\n",
    "\n",
    "# Count\n",
    "print(my_tuple.count(20))  # Output: 1\n",
    "\n",
    "# Index\n",
    "print(my_tuple.index(30))  # Output: 2\n",
    "\n",
    "# Max and Min\n",
    "print(max(my_tuple))  # Output: 40\n",
    "print(min(my_tuple))  # Output: 10\n",
    "\n"
   ]
  },
  {
   "cell_type": "code",
   "execution_count": 6,
   "metadata": {},
   "outputs": [
    {
     "name": "stdout",
     "output_type": "stream",
     "text": [
      "Alice\n"
     ]
    }
   ],
   "source": [
    "#TUPLE UNPACKING\n",
    "\n",
    "# Unpacking tuple elements into variables\n",
    "person = (\"Alice\", 25, \"Engineer\")\n",
    "name, age, profession = person\n",
    "print(name)  # Output: Alice\n",
    "print(age)   # Output: 25\n",
    "print(profession)  # Output: Engineer\n",
    "\n",
    "\n",
    "\n"
   ]
  },
  {
   "attachments": {
    "image.png": {
     "image/png": "[encoded data removed]"
    }
   },
   "cell_type": "markdown",
   "metadata": {},
   "source": [
    "![image.png](attachment:image.png)"
   ]
  },
  {
   "cell_type": "markdown",
   "metadata": {},
   "source": [
    "### Real-World Applications of Tuples\n",
    "- ✔ Storing database records (fixed values like dates, coordinates).\n",
    "- ✔ Returning multiple values from functions.\n",
    "- ✔ Representing fixed sets of values (e.g., days of the week)."
   ]
  }
 ],
 "metadata": {
  "kernelspec": {
   "display_name": "Python 3",
   "language": "python",
   "name": "python3"
  },
  "language_info": {
   "codemirror_mode": {
    "name": "ipython",
    "version": 3
   },
   "file_extension": ".py",
   "mimetype": "text/x-python",
   "name": "python",
   "nbconvert_exporter": "python",
   "pygments_lexer": "ipython3",
   "version": "3.12.1"
  }
 },
 "nbformat": 4,
 "nbformat_minor": 2
}
