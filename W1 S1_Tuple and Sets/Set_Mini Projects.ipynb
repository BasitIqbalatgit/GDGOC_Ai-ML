{
 "cells": [
  {
   "cell_type": "markdown",
   "metadata": {},
   "source": [
    "### 📌 Mini Project – Unique Keyword Extractor using Sets\n",
    "\n",
    "##### Project Description:\n",
    "Students will build a **Unique Keyword Extractor** that identifies and extracts unique words from multiple user-inputted texts using **sets**. This project will reinforce the uniqueness property of sets by **removing duplicate words automatically**.\n",
    "\n",
    "##### Concepts Used:\n",
    "- ✅ **Set operations** (union, intersection, difference)\n",
    "- ✅ **String manipulation** (splitting text into words)\n",
    "- ✅ **User input handling**\n",
    "\n",
    "---\n",
    "\n",
    "##### 🔹 Implementation Steps:\n",
    "1. **Ask the user** to input multiple texts (e.g., article summaries, research papers, or social media posts).\n",
    "2. **Convert each text into a set of words** (to ensure uniqueness).\n",
    "3. **Perform set operations:**\n",
    "   - **Union**: Find all unique words across texts.\n",
    "   - **Intersection**: Find common words across texts.\n",
    "   - **Difference**: Identify unique words in each text compared to others.\n",
    "4. **Display extracted unique words.**\n"
   ]
  },
  {
   "cell_type": "code",
   "execution_count": 1,
   "metadata": {},
   "outputs": [
    {
     "name": "stdout",
     "output_type": "stream",
     "text": [
      "\n",
      "📌 Unique words across all texts: {'over', 'branch', 'world', 'source', 'to', 'science', 'going', 'best', 'income', 'the', 'widely', 'of', 'is', 'which', 'being', 'used', 'ai', 'take'}\n",
      "✅ Common words in all texts: {'the', 'ai', 'is'}\n",
      "🔹 Unique words in Text 1: {'branch', 'widely', 'science', 'which', 'being', 'used'}\n",
      "🔹 Unique words in Text 2: {'income', 'source', 'best'}\n",
      "🔹 Unique words in Text 3: {'over', 'world', 'to', 'going', 'take'}\n"
     ]
    }
   ],
   "source": [
    "def get_unique_words(text):\n",
    "    \"\"\"Converts text into a set of unique words (ignoring punctuation and case).\"\"\"\n",
    "    words = text.lower().replace(\",\", \"\").replace(\".\", \"\").split()\n",
    "    return set(words)\n",
    "\n",
    "# Taking multiple text inputs from users\n",
    "text1 = input(\"Enter first text: \")\n",
    "text2 = input(\"Enter second text: \")\n",
    "text3 = input(\"Enter third text: \")\n",
    "\n",
    "# Convert texts into sets of words\n",
    "set1 = get_unique_words(text1)\n",
    "set2 = get_unique_words(text2)\n",
    "set3 = get_unique_words(text3)\n",
    "\n",
    "# Find unique words across all texts\n",
    "all_unique_words = set1 | set2 | set3  # Union of all sets\n",
    "common_words = set1 & set2 & set3  # Intersection (words common in all texts)\n",
    "text1_unique = set1 - (set2 | set3)  # Words unique to text1\n",
    "text2_unique = set2 - (set1 | set3)  # Words unique to text2\n",
    "text3_unique = set3 - (set1 | set2)  # Words unique to text3\n",
    "\n",
    "# Display results\n",
    "print(\"\\n📌 Unique words across all texts:\", all_unique_words)\n",
    "print(\"✅ Common words in all texts:\", common_words)\n",
    "print(\"🔹 Unique words in Text 1:\", text1_unique)\n",
    "print(\"🔹 Unique words in Text 2:\", text2_unique)\n",
    "print(\"🔹 Unique words in Text 3:\", text3_unique)\n"
   ]
  }
 ],
 "metadata": {
  "kernelspec": {
   "display_name": "Python 3",
   "language": "python",
   "name": "python3"
  },
  "language_info": {
   "codemirror_mode": {
    "name": "ipython",
    "version": 3
   },
   "file_extension": ".py",
   "mimetype": "text/x-python",
   "name": "python",
   "nbconvert_exporter": "python",
   "pygments_lexer": "ipython3",
   "version": "3.12.1"
  }
 },
 "nbformat": 4,
 "nbformat_minor": 2
}
