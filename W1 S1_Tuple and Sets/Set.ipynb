{
 "cells": [
  {
   "cell_type": "markdown",
   "metadata": {},
   "source": [
    "# 🔹 Sets in Python\n",
    "\n",
    "### What is a Set?\n",
    "A Set is an unordered, mutable collection of unique elements, meaning:\n",
    "- ✅ No duplicates allowed.\n",
    "- ✅ Unordered, so elements don't have a fixed position.\n",
    "- ✅ Supports set operations like union, intersection, and difference.\n",
    "- ✅ It is defined using curly braces `{}` or the `set()` function.\n",
    "\n",
    "### Why Use Sets?\n",
    "- ✔ Efficient duplicate removal from a list.\n",
    "- ✔ Mathematical operations (union, intersection, etc.).\n",
    "- ✔ Faster membership testing compared to lists.\n"
   ]
  },
  {
   "cell_type": "markdown",
   "metadata": {},
   "source": [
    "## Creating a Set"
   ]
  },
  {
   "cell_type": "code",
   "execution_count": 38,
   "metadata": {},
   "outputs": [
    {
     "name": "stdout",
     "output_type": "stream",
     "text": [
      "{1, 2, 3, 4, 5}\n",
      "{9, 3, 12, 6}\n",
      "<class 'set'>\n",
      "{1, 2, 3, 4, 5}\n"
     ]
    }
   ],
   "source": [
    "# Creating a set\n",
    "my_set = {1, 2, 3, 4, 5}\n",
    "print(my_set)  # Output: {1, 2, 3, 4, 5}\n",
    "\n",
    "# Creating a set using set()\n",
    "another_set = set([3, 6, 9, 12])\n",
    "print(another_set)  # Output: {3, 6, 9, 12}\n",
    "\n",
    "# Creating an empty set\n",
    "empty_set = set()\n",
    "print(type(empty_set))  # Output: <class 'set'>\n",
    "\n",
    "# Duplicate values are ignored\n",
    "set_with_duplicates = {1, 2, 2, 3, 4, 4, 5}\n",
    "print(set_with_duplicates)  # Output: {1, 2, 3, 4, 5}\n"
   ]
  },
  {
   "cell_type": "markdown",
   "metadata": {},
   "source": [
    "## Adding and Removing Elements in a Set"
   ]
  },
  {
   "cell_type": "code",
   "execution_count": 39,
   "metadata": {},
   "outputs": [
    {
     "name": "stdout",
     "output_type": "stream",
     "text": [
      "{1, 2, 3, 4, 5, 6}\n",
      "{1, 2, 4, 5, 6}\n",
      "set()\n"
     ]
    }
   ],
   "source": [
    "# Adding elements\n",
    "my_set.add(6)\n",
    "print(my_set)  # Output: {1, 2, 3, 4, 5, 6}\n",
    "\n",
    "# Removing elements\n",
    "my_set.remove(3)  # Removes 3 from set\n",
    "print(my_set)  # Output: {1, 2, 4, 5, 6}\n",
    "\n",
    "# Discard (does not raise error if element is missing)\n",
    "my_set.discard(10)  # No error\n",
    "\n",
    "# Clearing all elements\n",
    "my_set.clear()\n",
    "print(my_set)  # Output: set()\n"
   ]
  },
  {
   "cell_type": "markdown",
   "metadata": {},
   "source": [
    "## Set Opearations (Union, Intersection, Differnce)"
   ]
  },
  {
   "cell_type": "code",
   "execution_count": 40,
   "metadata": {},
   "outputs": [
    {
     "name": "stdout",
     "output_type": "stream",
     "text": [
      "{1, 2, 3, 4, 5, 6}\n",
      "{3, 4}\n",
      "{1, 2}\n",
      "{1, 2, 5, 6}\n"
     ]
    }
   ],
   "source": [
    "A = {1, 2, 3, 4}\n",
    "B = {3, 4, 5, 6}\n",
    "\n",
    "# Union (elements from both sets)\n",
    "print(A | B)  # Output: {1, 2, 3, 4, 5, 6}\n",
    "\n",
    "# Intersection (common elements)\n",
    "print(A & B)  # Output: {3, 4}\n",
    "\n",
    "# Difference (elements in A but not in B)\n",
    "print(A - B)  # Output: {1, 2}\n",
    "\n",
    "# Symmetric Difference (elements in A or B but not both)\n",
    "print(A ^ B)  # Output: {1, 2, 5, 6}\n"
   ]
  },
  {
   "cell_type": "markdown",
   "metadata": {},
   "source": [
    "## Membership Testing in Set"
   ]
  },
  {
   "cell_type": "code",
   "execution_count": 41,
   "metadata": {},
   "outputs": [
    {
     "name": "stdout",
     "output_type": "stream",
     "text": [
      "True\n",
      "False\n"
     ]
    }
   ],
   "source": [
    "fruits = {\"apple\", \"banana\", \"cherry\"}\n",
    "print(\"banana\" in fruits)  # Output: True\n",
    "print(\"grape\" in fruits)  # Output: False\n"
   ]
  },
  {
   "cell_type": "markdown",
   "metadata": {},
   "source": [
    "## Real-World Applications of Sets\n",
    "- ✔ Removing duplicates from a list.\n",
    "- ✔ Finding common elements in two lists.\n",
    "- ✔ Checking for unique values in large datasets.\n",
    "- ✔ Efficient lookup operations (faster than lists)."
   ]
  }
 ],
 "metadata": {
  "kernelspec": {
   "display_name": "Python 3",
   "language": "python",
   "name": "python3"
  },
  "language_info": {
   "codemirror_mode": {
    "name": "ipython",
    "version": 3
   },
   "file_extension": ".py",
   "mimetype": "text/x-python",
   "name": "python",
   "nbconvert_exporter": "python",
   "pygments_lexer": "ipython3",
   "version": "3.12.1"
  }
 },
 "nbformat": 4,
 "nbformat_minor": 2
}
