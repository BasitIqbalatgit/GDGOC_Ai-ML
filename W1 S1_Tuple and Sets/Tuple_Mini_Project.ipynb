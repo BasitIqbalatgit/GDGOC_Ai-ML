{
 "cells": [
  {
   "cell_type": "markdown",
   "metadata": {},
   "source": [
    "#### 📌 Mini Project (Tuple) – Employee Payroll System\n",
    "##### Project Description:\n",
    "Students will build an Employee Payroll System using tuples to store employee details. The program calculates salaries based on hourly wages and working hours while ensuring the immutability of employee records.\n",
    "\n",
    "##### Concepts Used:\n",
    "- ✅ Tuples (Immutable Employee Records)\n",
    "- ✅ Looping through tuples\n",
    "- ✅ Basic salary calculations\n",
    "\n",
    "##### Implementation Steps:\n",
    "- Store employee data in tuples (name, role, hourly_wage, hours_worked).\n",
    "- Calculate salary dynamically.\n",
    "- Display employee records in a structured format.\n"
   ]
  },
  {
   "cell_type": "code",
   "execution_count": 1,
   "metadata": {},
   "outputs": [
    {
     "name": "stdout",
     "output_type": "stream",
     "text": [
      "\n",
      "📊 Employee Payroll System\n",
      "\n",
      "Name           Role                     Salary ($)     \n",
      "-------------------------------------------------------\n",
      "Alice          Software Engineer        2000           \n",
      "Bob            Data Analyst             1575           \n",
      "Charlie        System Administrator     1520           \n",
      "David          Web Developer            2310           \n"
     ]
    }
   ],
   "source": [
    "# List of employee records stored as tuples (name, role, hourly wage, hours worked)\n",
    "employees = (\n",
    "    (\"Alice\", \"Software Engineer\", 50, 40),\n",
    "    (\"Bob\", \"Data Analyst\", 45, 35),\n",
    "    (\"Charlie\", \"System Administrator\", 40, 38),\n",
    "    (\"David\", \"Web Developer\", 55, 42)\n",
    ")\n",
    "\n",
    "# Function to calculate and display salaries\n",
    "def calculate_salaries():\n",
    "    print(\"\\n📊 Employee Payroll System\\n\")\n",
    "    print(f\"{'Name':<15}{'Role':<25}{'Salary ($)':<15}\")\n",
    "    \n",
    "    print(\"-\" * 55)\n",
    "    \n",
    "    for employee in employees:\n",
    "        name, role, hourly_wage, hours_worked = employee\n",
    "        salary = hourly_wage * hours_worked  # Calculate salary\n",
    "        print(f\"{name:<15}{role:<25}{salary:<15}\")\n",
    "\n",
    "# Run the payroll system\n",
    "calculate_salaries()\n"
   ]
  }
 ],
 "metadata": {
  "kernelspec": {
   "display_name": "Python 3",
   "language": "python",
   "name": "python3"
  },
  "language_info": {
   "codemirror_mode": {
    "name": "ipython",
    "version": 3
   },
   "file_extension": ".py",
   "mimetype": "text/x-python",
   "name": "python",
   "nbconvert_exporter": "python",
   "pygments_lexer": "ipython3",
   "version": "3.12.1"
  }
 },
 "nbformat": 4,
 "nbformat_minor": 2
}
